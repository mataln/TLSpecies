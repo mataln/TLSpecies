{
 "cells": [
  {
   "cell_type": "code",
   "execution_count": 1,
   "metadata": {},
   "outputs": [],
   "source": [
    "import pandas as pd\n",
    "import numpy as np\n",
    "\n",
    "import laspy\n",
    "import os\n",
    "\n",
    "from tqdm import tqdm"
   ]
  },
  {
   "cell_type": "code",
   "execution_count": 14,
   "metadata": {},
   "outputs": [
    {
     "name": "stdout",
     "output_type": "stream",
     "text": [
      "          id                  sp       genus       dataset data_type  tree_H  \\\n",
      "0         70  Eucalyptus_miniata  Eucalyptus   luck_levick       TLS   9.018   \n",
      "1         71  Eucalyptus_miniata  Eucalyptus   luck_levick       TLS   7.841   \n",
      "2         72  Eucalyptus_miniata  Eucalyptus   luck_levick       TLS  14.895   \n",
      "3         73  Eucalyptus_miniata  Eucalyptus   luck_levick       TLS  18.734   \n",
      "4         74  Eucalyptus_miniata  Eucalyptus   luck_levick       TLS   6.497   \n",
      "...      ...                 ...         ...           ...       ...     ...   \n",
      "17702  20241    Pinus_sylvestris       Pinus  puliti_ULS_2       ULS  11.120   \n",
      "17703  20242    Pinus_sylvestris       Pinus  puliti_ULS_2       ULS  13.040   \n",
      "17704  20243    Pinus_sylvestris       Pinus  puliti_ULS_2       ULS  16.260   \n",
      "17705  20244    Pinus_sylvestris       Pinus  puliti_ULS_2       ULS  14.020   \n",
      "17706  20246    Pinus_sylvestris       Pinus  puliti_ULS_2       ULS  15.140   \n",
      "\n",
      "               filename  \n",
      "0      /train/00070.las  \n",
      "1      /train/00071.las  \n",
      "2      /train/00072.las  \n",
      "3      /train/00073.las  \n",
      "4      /train/00074.las  \n",
      "...                 ...  \n",
      "17702  /train/20241.las  \n",
      "17703  /train/20242.las  \n",
      "17704  /train/20243.las  \n",
      "17705  /train/20244.las  \n",
      "17706  /train/20246.las  \n",
      "\n",
      "[17707 rows x 7 columns]\n"
     ]
    },
    {
     "name": "stderr",
     "output_type": "stream",
     "text": [
      "17707it [1:50:26,  2.67it/s]\n"
     ]
    }
   ],
   "source": [
    "N_POINTS = 16384\n",
    "TXT_FOLDER = \"data/Tr3D_species/treesXYZ/\"\n",
    "LAS_FOLDER = \"data/Tr3D_species/las/\"\n",
    "\n",
    "np.random.seed(0)\n",
    "\n",
    "metadata = pd.read_csv(\"data/Tr3D_species/tree_metadata_training_publish.csv\")\n",
    "\n",
    "#new_df = metadata[['treeID', 'species']]\n",
    "new_df = metadata.rename(columns={'treeID':'id', 'species':'sp'})\n",
    "new_df['id'] = new_df['id'].astype(str)\n",
    "print(new_df)\n",
    "\n",
    "new_df.to_csv(\"data/Tr3D_species/meta/Tr3D_meta.csv\", index=False)\n",
    "\n",
    "i = 0\n",
    "for line in tqdm(metadata.iterrows()):\n",
    "    las = laspy.read(f\"{LAS_FOLDER}/{line[1]['filename']}\")\n",
    "    xyz_points = np.array([(x[0], x[1], x[2]) for x in las.points.array], dtype = np.float32)\n",
    "\n",
    "    # Sample\n",
    "    if xyz_points.shape[0] > N_POINTS: # w/o replacement if enough points\n",
    "        idx = np.random.choice(xyz_points.shape[0], size=N_POINTS, replace = False) \n",
    "    else:\n",
    "        idx = np.random.randint(xyz_points.shape[0], size=N_POINTS)\n",
    "\n",
    "    xyz_points = xyz_points[idx, :]\n",
    "\n",
    "    id = line[1]['treeID']\n",
    "    np.savetxt(f\"{TXT_FOLDER}/{id}.txt\", xyz_points)\n",
    "\n",
    "    # i+=1\n",
    "\n",
    "    # if i == 2:\n",
    "    #     break"
   ]
  },
  {
   "cell_type": "code",
   "execution_count": 53,
   "metadata": {},
   "outputs": [
    {
     "name": "stderr",
     "output_type": "stream",
     "text": [
      "100%|██████████| 2255/2255 [21:18<00:00,  1.76it/s]  \n"
     ]
    }
   ],
   "source": [
    "#Test set\n",
    "N_POINTS = 16384\n",
    "TXT_FOLDER = \"data/Tr3D_species_comp_test/treesXYZ/\"\n",
    "LAS_FOLDER = \"data/Tr3D_species_comp_test/las/\"\n",
    "\n",
    "np.random.seed(0)\n",
    "\n",
    "fnames = os.listdir(\"data/Tr3D_species_comp_test/las/\")\n",
    "species = ['Abies_alba' for _ in range(len(fnames))]\n",
    "\n",
    "data = {'id':fnames, 'sp':species}\n",
    "\n",
    "meta_df = pd.DataFrame(data)\n",
    "meta_df.id = meta_df.id.apply(lambda x:str(int(os.path.splitext(str(x))[0])))\n",
    "meta_df.to_csv(\"data/Tr3D_species_comp_test/meta/Tr3D_meta.csv\", index=False)\n",
    "\n",
    "for las_file in tqdm(fnames):\n",
    "    las_location = LAS_FOLDER + las_file\n",
    "    las = laspy.read(las_location)\n",
    "    xyz_points = np.array([(x[0], x[1], x[2]) for x in las.points.array], dtype = np.float32)\n",
    "\n",
    "    # Sample\n",
    "    if xyz_points.shape[0] > N_POINTS: # w/o replacement if enough points\n",
    "        idx = np.random.choice(xyz_points.shape[0], size=N_POINTS, replace = False) \n",
    "    else:\n",
    "        idx = np.random.randint(xyz_points.shape[0], size=N_POINTS)\n",
    "\n",
    "    xyz_points = xyz_points[idx, :]\n",
    "\n",
    "    id = str(int(os.path.splitext(las_file)[0]))\n",
    "    np.savetxt(f\"{TXT_FOLDER}/{id}.txt\", xyz_points)"
   ]
  },
  {
   "cell_type": "code",
   "execution_count": null,
   "metadata": {},
   "outputs": [],
   "source": []
  }
 ],
 "metadata": {
  "kernelspec": {
   "display_name": "tlspecies",
   "language": "python",
   "name": "python3"
  },
  "language_info": {
   "codemirror_mode": {
    "name": "ipython",
    "version": 3
   },
   "file_extension": ".py",
   "mimetype": "text/x-python",
   "name": "python",
   "nbconvert_exporter": "python",
   "pygments_lexer": "ipython3",
   "version": "3.8.13"
  },
  "orig_nbformat": 4,
  "vscode": {
   "interpreter": {
    "hash": "88740fe4e1a26c98efdcbe9d3d93fcf6771c6c2f693598d1e208efb477590184"
   }
  }
 },
 "nbformat": 4,
 "nbformat_minor": 2
}
